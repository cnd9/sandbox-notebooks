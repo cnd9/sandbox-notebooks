{
 "cells": [
  {
   "cell_type": "markdown",
   "id": "4787249d",
   "metadata": {},
   "source": [
    "### Running through some examples discussed in the lectures with python"
   ]
  },
  {
   "cell_type": "code",
   "execution_count": 1,
   "id": "c4d6111e",
   "metadata": {},
   "outputs": [],
   "source": [
    "import pandas as pd\n",
    "import numpy as np\n",
    "from sklearn.ensemble import RandomForestRegressor, RandomForestClassifier\n",
    "import matplotlib.pyplot as plt"
   ]
  },
  {
   "cell_type": "code",
   "execution_count": 4,
   "id": "01cd232e",
   "metadata": {},
   "outputs": [],
   "source": [
    "def potential_outcome(xi, ti):\n",
    "    return ti * (np.abs((xi[0] + xi[1])) - .05)  + (1 - ti) * np.abs((xi[0] + xi[2])) \n",
    "\n",
    "def propensity_score(X):\n",
    "    return 1 / (1 + np.exp(-X[:,0]))"
   ]
  },
  {
   "cell_type": "markdown",
   "id": "cf3f28ed",
   "metadata": {},
   "source": [
    "### Cross Fitting"
   ]
  },
  {
   "cell_type": "code",
   "execution_count": 74,
   "id": "2b08338a",
   "metadata": {},
   "outputs": [],
   "source": [
    "def cross_fit_predict(model, X, y, pred_batch_size = 1, binary_model = False):\n",
    "    \"\"\"Takes a prediction model and iteratively cross fit on training data with prediction batch left out.\n",
    "    Deterministic ordering ; assume that training data has already been shuffled randomly.\"\"\"\n",
    "    n_batch = int(np.ceil(len(X) / pred_batch_size))\n",
    "    preds = []\n",
    "    for n in range(n_batch) : \n",
    "        X_pred = X[n * pred_batch_size : n * pred_batch_size + pred_batch_size]\n",
    "        X_train = np.append(X[0 : n * pred_batch_size], X[n * pred_batch_size + pred_batch_size ::], axis = 0)\n",
    "        y_train = np.append(y[0 : n * pred_batch_size], y[n * pred_batch_size + pred_batch_size ::])\n",
    "        model.fit(X_train, y_train)\n",
    "        if binary_model:\n",
    "            preds.extend(model.predict_proba(X_pred)[:,1].reshape(-1))\n",
    "        else:\n",
    "            preds.extend(model.predict(X_pred).reshape(-1))\n",
    "    return preds"
   ]
  },
  {
   "cell_type": "markdown",
   "id": "7dff085d",
   "metadata": {},
   "source": [
    "##### Constant propensity score"
   ]
  },
  {
   "cell_type": "code",
   "execution_count": 5,
   "id": "05c21568",
   "metadata": {},
   "outputs": [
    {
     "name": "stdout",
     "output_type": "stream",
     "text": [
      "-0.05932054601752923\n"
     ]
    }
   ],
   "source": [
    "#Constant propensity score\n",
    "n_sim = 50000\n",
    "X = np.random.randn(n_sim,3)\n",
    "T = np.random.binomial(1, .5, size = n_sim)\n",
    "outcomes = np.array([potential_outcome(xi, ti) for xi,ti in zip(X, T)])\n",
    "print(np.mean(outcomes[np.argwhere(T == 1).reshape(-1)]) - np.mean(outcomes[np.argwhere(T == 0).reshape(-1)]))"
   ]
  },
  {
   "cell_type": "markdown",
   "id": "4db3e704",
   "metadata": {},
   "source": [
    "#### With Confounding"
   ]
  },
  {
   "cell_type": "markdown",
   "id": "79972978",
   "metadata": {},
   "source": [
    "### AIPW"
   ]
  },
  {
   "cell_type": "markdown",
   "id": "32a17efd",
   "metadata": {},
   "source": [
    "#### Regression adjustment estimator"
   ]
  },
  {
   "cell_type": "code",
   "execution_count": 82,
   "id": "c1df592f",
   "metadata": {},
   "outputs": [],
   "source": [
    "#With confounding\n",
    "n_sim = 1000\n",
    "tau_est = []\n",
    "p = 20\n",
    "for n in range(2):\n",
    "    X = np.random.randn(n_sim,p)\n",
    "    T = np.random.binomial(1, propensity_score(X))\n",
    "    outcomes = np.array([potential_outcome(xi, ti) for xi,ti in zip(X, T)])\n",
    "    df = pd.DataFrame(columns = [f\"x{i}\" for i in range(p)], data = X)\n",
    "    df['T'] = T\n",
    "    df['Y'] = outcomes\n",
    "    ### random forest for separate potential outcomes u_1(X) and u_2(X)\n",
    "    ##out-of-the-box random forest model\n",
    "    for t in [0, 1]:\n",
    "        mask_t = df['T'] == t\n",
    "        preds = cross_fit_predict(RandomForestRegressor(),\n",
    "                                  X = df.loc[mask_t].values[:,0:p],\n",
    "                                  y = df.loc[mask_t].Y.values,\n",
    "                                  pred_batch_size = 50)\n",
    "        df.loc[mask_t, f'mu_hat{t}'] = preds\n",
    "        X_unobs = df.loc[~mask_t].values[:, 0:p]\n",
    "        preds_unobs = (RandomForestRegressor().\n",
    "                             fit(X = df.loc[mask_t].values[:,0:p], y = df.loc[mask_t].Y.values).\n",
    "                             predict(X_unobs).reshape(-1))\n",
    "        df.loc[~mask_t, f'mu_hat{t}'] = preds_unobs\n",
    "        "
   ]
  },
  {
   "cell_type": "code",
   "execution_count": 83,
   "id": "bafa2733",
   "metadata": {},
   "outputs": [
    {
     "data": {
      "text/plain": [
       "-0.04146168805792007"
      ]
     },
     "execution_count": 83,
     "metadata": {},
     "output_type": "execute_result"
    }
   ],
   "source": [
    "np.mean(df.mu_hat1 - df.mu_hat0)"
   ]
  },
  {
   "cell_type": "markdown",
   "id": "92faadd3",
   "metadata": {},
   "source": [
    "#### Add in IPW applied to residuals"
   ]
  },
  {
   "cell_type": "markdown",
   "id": "f3a7e68d",
   "metadata": {},
   "source": [
    "##### Propensity score estimator"
   ]
  },
  {
   "cell_type": "code",
   "execution_count": 104,
   "id": "c2a792f0",
   "metadata": {},
   "outputs": [],
   "source": [
    "ehat_preds = cross_fit_predict(RandomForestClassifier(), X = X, y = T, binary_model = True,\n",
    "                         pred_batch_size = 50)\n",
    "df['ehat_pred'] = ehat_preds"
   ]
  },
  {
   "cell_type": "code",
   "execution_count": 95,
   "id": "976dcdc1",
   "metadata": {},
   "outputs": [
    {
     "data": {
      "text/plain": [
       "<matplotlib.legend.Legend at 0x7fcc6664c160>"
      ]
     },
     "execution_count": 95,
     "metadata": {},
     "output_type": "execute_result"
    },
    {
     "data": {
      "image/png": "[encoded data removed]",
      "text/plain": [
       "<Figure size 640x480 with 1 Axes>"
      ]
     },
     "metadata": {},
     "output_type": "display_data"
    }
   ],
   "source": [
    "fig,ax = plt.subplots()\n",
    "ax.scatter(X[:,0], ehat_preds)\n",
    "xp = np.linspace(-3, 3, 100)\n",
    "ax.plot(xp, propensity_score(xp.reshape(-1,1)),color = 'k',linewidth = 3, label = 'Actual propensity score')\n",
    "ax.legend()"
   ]
  },
  {
   "cell_type": "code",
   "execution_count": 105,
   "id": "5b6d543d",
   "metadata": {},
   "outputs": [
    {
     "data": {
      "text/plain": [
       "Index(['x0', 'x1', 'x2', 'x3', 'x4', 'x5', 'x6', 'x7', 'x8', 'x9', 'x10',\n",
       "       'x11', 'x12', 'x13', 'x14', 'x15', 'x16', 'x17', 'x18', 'x19', 'T', 'Y',\n",
       "       'mu_hat0', 'mu_hat1', 'ehat_pred'],\n",
       "      dtype='object')"
      ]
     },
     "execution_count": 105,
     "metadata": {},
     "output_type": "execute_result"
    }
   ],
   "source": [
    "df.columns"
   ]
  },
  {
   "cell_type": "code",
   "execution_count": 107,
   "id": "562d6d48",
   "metadata": {},
   "outputs": [],
   "source": [
    "def resid_ipw(x):\n",
    "    return ((x['T']/x['ehat_pred']) * (x['Y'] - x['mu_hat1'])) - (((1 - x['T'])/(1 - x['ehat_pred'])) * (x['Y'] - x['mu_hat0']))\n",
    "df['R'] = df.apply(lambda x : resid_ipw(x), axis = 1)"
   ]
  },
  {
   "cell_type": "markdown",
   "id": "cf9c3269",
   "metadata": {},
   "source": [
    "### Final AIPW estimator for ATE (compare to actual of -.05)"
   ]
  },
  {
   "cell_type": "code",
   "execution_count": 113,
   "id": "354a3649",
   "metadata": {},
   "outputs": [
    {
     "data": {
      "text/plain": [
       "-0.05170306472513528"
      ]
     },
     "execution_count": 113,
     "metadata": {},
     "output_type": "execute_result"
    }
   ],
   "source": [
    "aipw = np.mean(df['mu_hat1'] - df['mu_hat0'] + df['R'])\n",
    "aipw"
   ]
  },
  {
   "cell_type": "code",
   "execution_count": null,
   "id": "2a3d9f23",
   "metadata": {},
   "outputs": [],
   "source": []
  }
 ],
 "metadata": {
  "kernelspec": {
   "display_name": "Python 3 (ipykernel)",
   "language": "python",
   "name": "python3"
  },
  "language_info": {
   "codemirror_mode": {
    "name": "ipython",
    "version": 3
   },
   "file_extension": ".py",
   "mimetype": "text/x-python",
   "name": "python",
   "nbconvert_exporter": "python",
   "pygments_lexer": "ipython3",
   "version": "3.9.16"
  }
 },
 "nbformat": 4,
 "nbformat_minor": 5
}
